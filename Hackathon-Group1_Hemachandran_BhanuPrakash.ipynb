{
 "cells": [
  {
   "cell_type": "code",
   "execution_count": 0,
   "metadata": {
    "application/vnd.databricks.v1+cell": {
     "cellMetadata": {
      "byteLimit": 2048000,
      "rowLimit": 10000
     },
     "inputWidgets": {},
     "nuid": "371c8254-3004-4fab-82eb-4c7e8a3fbb3c",
     "showTitle": false,
     "tableResultSettingsMap": {},
     "title": ""
    }
   },
   "outputs": [
    {
     "output_type": "stream",
     "name": "stdout",
     "output_type": "stream",
     "text": [
      "\u001B[31mERROR: pip's dependency resolver does not currently take into account all the packages that are installed. This behaviour is the source of the following dependency conflicts.\nydata-profiling 4.5.1 requires pydantic<2,>=1.8.1, but you have pydantic 2.10.3 which is incompatible.\u001B[0m\u001B[31m\n\u001B[0m\u001B[43mNote: you may need to restart the kernel using %restart_python or dbutils.library.restartPython() to use updated packages.\u001B[0m\n"
     ]
    }
   ],
   "source": [
    "!pip install -qU langchain langchain-openai langchain-community langchain-huggingface langchain-openai transformers spacy"
   ]
  },
  {
   "cell_type": "code",
   "execution_count": 0,
   "metadata": {
    "application/vnd.databricks.v1+cell": {
     "cellMetadata": {
      "byteLimit": 2048000,
      "rowLimit": 10000
     },
     "inputWidgets": {},
     "nuid": "de913119-e466-4d38-be74-cd268b60e672",
     "showTitle": false,
     "tableResultSettingsMap": {},
     "title": ""
    }
   },
   "outputs": [
    {
     "output_type": "stream",
     "name": "stdout",
     "output_type": "stream",
     "text": [
      "Collecting diffusers[torch]\n  Obtaining dependency information for diffusers[torch] from https://files.pythonhosted.org/packages/07/7f/53828ff41b86c3274099327627ff5cb7581a2cc9db3bcb39e5212c4140b7/diffusers-0.31.0-py3-none-any.whl.metadata\n  Using cached diffusers-0.31.0-py3-none-any.whl.metadata (18 kB)\nRequirement already satisfied: importlib-metadata in /databricks/python3/lib/python3.11/site-packages (from diffusers[torch]) (6.0.0)\nRequirement already satisfied: filelock in /databricks/python3/lib/python3.11/site-packages (from diffusers[torch]) (3.13.4)\nRequirement already satisfied: huggingface-hub>=0.23.2 in /local_disk0/.ephemeral_nfs/envs/pythonEnv-d0076b2f-2da4-44c0-aa59-713021a47f08/lib/python3.11/site-packages (from diffusers[torch]) (0.26.5)\nRequirement already satisfied: numpy in /databricks/python3/lib/python3.11/site-packages (from diffusers[torch]) (1.23.5)\nRequirement already satisfied: regex!=2019.12.17 in /databricks/python3/lib/python3.11/site-packages (from diffusers[torch]) (2022.7.9)\nRequirement already satisfied: requests in /databricks/python3/lib/python3.11/site-packages (from diffusers[torch]) (2.31.0)\nRequirement already satisfied: safetensors>=0.3.1 in /databricks/python3/lib/python3.11/site-packages (from diffusers[torch]) (0.4.2)\nRequirement already satisfied: Pillow in /databricks/python3/lib/python3.11/site-packages (from diffusers[torch]) (9.4.0)\nRequirement already satisfied: torch<2.5.0,>=1.4 in /databricks/python3/lib/python3.11/site-packages (from diffusers[torch]) (2.3.1+cpu)\nRequirement already satisfied: accelerate>=0.31.0 in /databricks/python3/lib/python3.11/site-packages (from diffusers[torch]) (0.31.0)\nRequirement already satisfied: packaging>=20.0 in /databricks/python3/lib/python3.11/site-packages (from accelerate>=0.31.0->diffusers[torch]) (23.2)\nRequirement already satisfied: psutil in /databricks/python3/lib/python3.11/site-packages (from accelerate>=0.31.0->diffusers[torch]) (5.9.0)\nRequirement already satisfied: pyyaml in /databricks/python3/lib/python3.11/site-packages (from accelerate>=0.31.0->diffusers[torch]) (6.0)\nRequirement already satisfied: fsspec>=2023.5.0 in /databricks/python3/lib/python3.11/site-packages (from huggingface-hub>=0.23.2->diffusers[torch]) (2023.5.0)\nRequirement already satisfied: tqdm>=4.42.1 in /databricks/python3/lib/python3.11/site-packages (from huggingface-hub>=0.23.2->diffusers[torch]) (4.65.0)\nRequirement already satisfied: typing-extensions>=3.7.4.3 in /local_disk0/.ephemeral_nfs/envs/pythonEnv-d0076b2f-2da4-44c0-aa59-713021a47f08/lib/python3.11/site-packages (from huggingface-hub>=0.23.2->diffusers[torch]) (4.12.2)\nRequirement already satisfied: sympy in /databricks/python3/lib/python3.11/site-packages (from torch<2.5.0,>=1.4->diffusers[torch]) (1.11.1)\nRequirement already satisfied: networkx in /databricks/python3/lib/python3.11/site-packages (from torch<2.5.0,>=1.4->diffusers[torch]) (3.1)\nRequirement already satisfied: jinja2 in /databricks/python3/lib/python3.11/site-packages (from torch<2.5.0,>=1.4->diffusers[torch]) (3.1.2)\nRequirement already satisfied: zipp>=0.5 in /databricks/python3/lib/python3.11/site-packages (from importlib-metadata->diffusers[torch]) (3.11.0)\nRequirement already satisfied: charset-normalizer<4,>=2 in /databricks/python3/lib/python3.11/site-packages (from requests->diffusers[torch]) (2.0.4)\nRequirement already satisfied: idna<4,>=2.5 in /databricks/python3/lib/python3.11/site-packages (from requests->diffusers[torch]) (3.4)\nRequirement already satisfied: urllib3<3,>=1.21.1 in /databricks/python3/lib/python3.11/site-packages (from requests->diffusers[torch]) (1.26.16)\nRequirement already satisfied: certifi>=2017.4.17 in /databricks/python3/lib/python3.11/site-packages (from requests->diffusers[torch]) (2023.7.22)\nRequirement already satisfied: MarkupSafe>=2.0 in /databricks/python3/lib/python3.11/site-packages (from jinja2->torch<2.5.0,>=1.4->diffusers[torch]) (2.1.1)\nRequirement already satisfied: mpmath>=0.19 in /databricks/python3/lib/python3.11/site-packages (from sympy->torch<2.5.0,>=1.4->diffusers[torch]) (1.3.0)\nUsing cached diffusers-0.31.0-py3-none-any.whl (2.9 MB)\nInstalling collected packages: diffusers\nSuccessfully installed diffusers-0.31.0\n\u001B[43mNote: you may need to restart the kernel using %restart_python or dbutils.library.restartPython() to use updated packages.\u001B[0m\n"
     ]
    }
   ],
   "source": [
    "pip install --upgrade diffusers[torch]"
   ]
  },
  {
   "cell_type": "code",
   "execution_count": 0,
   "metadata": {
    "application/vnd.databricks.v1+cell": {
     "cellMetadata": {
      "byteLimit": 2048000,
      "rowLimit": 10000
     },
     "inputWidgets": {},
     "nuid": "5370e428-194e-454c-85f3-3589c5dccdad",
     "showTitle": false,
     "tableResultSettingsMap": {},
     "title": ""
    }
   },
   "outputs": [
    {
     "output_type": "stream",
     "name": "stdout",
     "output_type": "stream",
     "text": [
      "Collecting en-core-web-sm==3.7.1\r\n  Downloading https://github.com/explosion/spacy-models/releases/download/en_core_web_sm-3.7.1/en_core_web_sm-3.7.1-py3-none-any.whl (12.8 MB)\r\n\u001B[?25l     \u001B[90m━━━━━━━━━━━━━━━━━━━━━━━━━━━━━━━━━━━━━━━━\u001B[0m \u001B[32m0.0/12.8 MB\u001B[0m \u001B[31m?\u001B[0m eta \u001B[36m-:--:--\u001B[0m\r\u001B[2K     \u001B[91m╸\u001B[0m\u001B[90m━━━━━━━━━━━━━━━━━━━━━━━━━━━━━━━━━━━━━━━\u001B[0m \u001B[32m0.2/12.8 MB\u001B[0m \u001B[31m5.4 MB/s\u001B[0m eta \u001B[36m0:00:03\u001B[0m\r\u001B[2K     \u001B[91m━\u001B[0m\u001B[91m╸\u001B[0m\u001B[90m━━━━━━━━━━━━━━━━━━━━━━━━━━━━━━━━━━━━━━\u001B[0m \u001B[32m0.6/12.8 MB\u001B[0m \u001B[31m8.6 MB/s\u001B[0m eta \u001B[36m0:00:02\u001B[0m\r\u001B[2K     \u001B[91m━━━\u001B[0m\u001B[90m╺\u001B[0m\u001B[90m━━━━━━━━━━━━━━━━━━━━━━━━━━━━━━━━━━━━\u001B[0m \u001B[32m1.1/12.8 MB\u001B[0m \u001B[31m10.2 MB/s\u001B[0m eta \u001B[36m0:00:02\u001B[0m\r\u001B[2K     \u001B[91m━━━━━\u001B[0m\u001B[90m╺\u001B[0m\u001B[90m━━━━━━━━━━━━━━━━━━━━━━━━━━━━━━━━━━\u001B[0m \u001B[32m1.6/12.8 MB\u001B[0m \u001B[31m11.8 MB/s\u001B[0m eta \u001B[36m0:00:01\u001B[0m\r\u001B[2K     \u001B[91m━━━━━━━\u001B[0m\u001B[90m╺\u001B[0m\u001B[90m━━━━━━━━━━━━━━━━━━━━━━━━━━━━━━━━\u001B[0m \u001B[32m2.3/12.8 MB\u001B[0m \u001B[31m13.3 MB/s\u001B[0m eta \u001B[36m0:00:01\u001B[0m\r\u001B[2K     \u001B[91m━━━━━━━━━\u001B[0m\u001B[91m╸\u001B[0m\u001B[90m━━━━━━━━━━━━━━━━━━━━━━━━━━━━━━\u001B[0m \u001B[32m3.1/12.8 MB\u001B[0m \u001B[31m14.7 MB/s\u001B[0m eta \u001B[36m0:00:01\u001B[0m\r\u001B[2K     \u001B[91m━━━━━━━━━━━━\u001B[0m\u001B[91m╸\u001B[0m\u001B[90m━━━━━━━━━━━━━━━━━━━━━━━━━━━\u001B[0m \u001B[32m4.0/12.8 MB\u001B[0m \u001B[31m16.4 MB/s\u001B[0m eta \u001B[36m0:00:01\u001B[0m\r\u001B[2K     \u001B[91m━━━━━━━━━━━━━━━\u001B[0m\u001B[91m╸\u001B[0m\u001B[90m━━━━━━━━━━━━━━━━━━━━━━━━\u001B[0m \u001B[32m5.1/12.8 MB\u001B[0m \u001B[31m18.3 MB/s\u001B[0m eta \u001B[36m0:00:01\u001B[0m\r\u001B[2K     \u001B[91m━━━━━━━━━━━━━━━━━━━━\u001B[0m\u001B[90m╺\u001B[0m\u001B[90m━━━━━━━━━━━━━━━━━━━\u001B[0m \u001B[32m6.4/12.8 MB\u001B[0m \u001B[31m20.4 MB/s\u001B[0m eta \u001B[36m0:00:01\u001B[0m\r\u001B[2K     \u001B[91m━━━━━━━━━━━━━━━━━━━━━━━━\u001B[0m\u001B[91m╸\u001B[0m\u001B[90m━━━━━━━━━━━━━━━\u001B[0m \u001B[32m8.0/12.8 MB\u001B[0m \u001B[31m22.8 MB/s\u001B[0m eta \u001B[36m0:00:01\u001B[0m\r\u001B[2K     \u001B[91m━━━━━━━━━━━━━━━━━━━━━━━━━━━━━━\u001B[0m\u001B[91m╸\u001B[0m\u001B[90m━━━━━━━━━\u001B[0m \u001B[32m9.8/12.8 MB\u001B[0m \u001B[31m25.4 MB/s\u001B[0m eta \u001B[36m0:00:01\u001B[0m\r\u001B[2K     \u001B[91m━━━━━━━━━━━━━━━━━━━━━━━━━━━━━━━━━━━━━\u001B[0m\u001B[91m╸\u001B[0m\u001B[90m━━\u001B[0m \u001B[32m12.0/12.8 MB\u001B[0m \u001B[31m37.4 MB/s\u001B[0m eta \u001B[36m0:00:01\u001B[0m\r\u001B[2K     \u001B[91m━━━━━━━━━━━━━━━━━━━━━━━━━━━━━━━━━━━━━━━\u001B[0m\u001B[91m╸\u001B[0m \u001B[32m12.8/12.8 MB\u001B[0m \u001B[31m41.5 MB/s\u001B[0m eta \u001B[36m0:00:01\u001B[0m\r\u001B[2K     \u001B[91m━━━━━━━━━━━━━━━━━━━━━━━━━━━━━━━━━━━━━━━\u001B[0m\u001B[91m╸\u001B[0m \u001B[32m12.8/12.8 MB\u001B[0m \u001B[31m41.5 MB/s\u001B[0m eta \u001B[36m0:00:01\u001B[0m\r\u001B[2K     \u001B[90m━━━━━━━━━━━━━━━━━━━━━━━━━━━━━━━━━━━━━━━━\u001B[0m \u001B[32m12.8/12.8 MB\u001B[0m \u001B[31m30.9 MB/s\u001B[0m eta \u001B[36m0:00:00\u001B[0m\r\n\u001B[?25hRequirement already satisfied: spacy<3.8.0,>=3.7.2 in /local_disk0/.ephemeral_nfs/envs/pythonEnv-d0076b2f-2da4-44c0-aa59-713021a47f08/lib/python3.11/site-packages (from en-core-web-sm==3.7.1) (3.7.5)\r\nRequirement already satisfied: spacy-legacy<3.1.0,>=3.0.11 in /databricks/python3/lib/python3.11/site-packages (from spacy<3.8.0,>=3.7.2->en-core-web-sm==3.7.1) (3.0.12)\r\nRequirement already satisfied: spacy-loggers<2.0.0,>=1.0.0 in /databricks/python3/lib/python3.11/site-packages (from spacy<3.8.0,>=3.7.2->en-core-web-sm==3.7.1) (1.0.5)\r\nRequirement already satisfied: murmurhash<1.1.0,>=0.28.0 in /databricks/python3/lib/python3.11/site-packages (from spacy<3.8.0,>=3.7.2->en-core-web-sm==3.7.1) (1.0.10)\r\nRequirement already satisfied: cymem<2.1.0,>=2.0.2 in /databricks/python3/lib/python3.11/site-packages (from spacy<3.8.0,>=3.7.2->en-core-web-sm==3.7.1) (2.0.8)\r\nRequirement already satisfied: preshed<3.1.0,>=3.0.2 in /databricks/python3/lib/python3.11/site-packages (from spacy<3.8.0,>=3.7.2->en-core-web-sm==3.7.1) (3.0.9)\r\nRequirement already satisfied: thinc<8.3.0,>=8.2.2 in /databricks/python3/lib/python3.11/site-packages (from spacy<3.8.0,>=3.7.2->en-core-web-sm==3.7.1) (8.2.3)\r\nRequirement already satisfied: wasabi<1.2.0,>=0.9.1 in /databricks/python3/lib/python3.11/site-packages (from spacy<3.8.0,>=3.7.2->en-core-web-sm==3.7.1) (1.1.2)\r\nRequirement already satisfied: srsly<3.0.0,>=2.4.3 in /databricks/python3/lib/python3.11/site-packages (from spacy<3.8.0,>=3.7.2->en-core-web-sm==3.7.1) (2.4.8)\r\nRequirement already satisfied: catalogue<2.1.0,>=2.0.6 in /databricks/python3/lib/python3.11/site-packages (from spacy<3.8.0,>=3.7.2->en-core-web-sm==3.7.1) (2.0.10)\r\nRequirement already satisfied: weasel<0.5.0,>=0.1.0 in /databricks/python3/lib/python3.11/site-packages (from spacy<3.8.0,>=3.7.2->en-core-web-sm==3.7.1) (0.3.4)\r\nRequirement already satisfied: typer<1.0.0,>=0.3.0 in /databricks/python3/lib/python3.11/site-packages (from spacy<3.8.0,>=3.7.2->en-core-web-sm==3.7.1) (0.9.4)\r\nRequirement already satisfied: tqdm<5.0.0,>=4.38.0 in /databricks/python3/lib/python3.11/site-packages (from spacy<3.8.0,>=3.7.2->en-core-web-sm==3.7.1) (4.65.0)\r\nRequirement already satisfied: requests<3.0.0,>=2.13.0 in /databricks/python3/lib/python3.11/site-packages (from spacy<3.8.0,>=3.7.2->en-core-web-sm==3.7.1) (2.31.0)\r\nRequirement already satisfied: pydantic!=1.8,!=1.8.1,<3.0.0,>=1.7.4 in /local_disk0/.ephemeral_nfs/envs/pythonEnv-d0076b2f-2da4-44c0-aa59-713021a47f08/lib/python3.11/site-packages (from spacy<3.8.0,>=3.7.2->en-core-web-sm==3.7.1) (2.10.3)\r\nRequirement already satisfied: jinja2 in /databricks/python3/lib/python3.11/site-packages (from spacy<3.8.0,>=3.7.2->en-core-web-sm==3.7.1) (3.1.2)\r\nRequirement already satisfied: setuptools in /databricks/python3/lib/python3.11/site-packages (from spacy<3.8.0,>=3.7.2->en-core-web-sm==3.7.1) (68.0.0)\r\nRequirement already satisfied: packaging>=20.0 in /databricks/python3/lib/python3.11/site-packages (from spacy<3.8.0,>=3.7.2->en-core-web-sm==3.7.1) (23.2)\r\nRequirement already satisfied: langcodes<4.0.0,>=3.2.0 in /databricks/python3/lib/python3.11/site-packages (from spacy<3.8.0,>=3.7.2->en-core-web-sm==3.7.1) (3.4.0)\r\nRequirement already satisfied: numpy>=1.19.0 in /databricks/python3/lib/python3.11/site-packages (from spacy<3.8.0,>=3.7.2->en-core-web-sm==3.7.1) (1.23.5)\r\nRequirement already satisfied: language-data>=1.2 in /databricks/python3/lib/python3.11/site-packages (from langcodes<4.0.0,>=3.2.0->spacy<3.8.0,>=3.7.2->en-core-web-sm==3.7.1) (1.2.0)\r\nRequirement already satisfied: annotated-types>=0.6.0 in /local_disk0/.ephemeral_nfs/envs/pythonEnv-d0076b2f-2da4-44c0-aa59-713021a47f08/lib/python3.11/site-packages (from pydantic!=1.8,!=1.8.1,<3.0.0,>=1.7.4->spacy<3.8.0,>=3.7.2->en-core-web-sm==3.7.1) (0.7.0)\r\nRequirement already satisfied: pydantic-core==2.27.1 in /local_disk0/.ephemeral_nfs/envs/pythonEnv-d0076b2f-2da4-44c0-aa59-713021a47f08/lib/python3.11/site-packages (from pydantic!=1.8,!=1.8.1,<3.0.0,>=1.7.4->spacy<3.8.0,>=3.7.2->en-core-web-sm==3.7.1) (2.27.1)\r\nRequirement already satisfied: typing-extensions>=4.12.2 in /local_disk0/.ephemeral_nfs/envs/pythonEnv-d0076b2f-2da4-44c0-aa59-713021a47f08/lib/python3.11/site-packages (from pydantic!=1.8,!=1.8.1,<3.0.0,>=1.7.4->spacy<3.8.0,>=3.7.2->en-core-web-sm==3.7.1) (4.12.2)\r\nRequirement already satisfied: charset-normalizer<4,>=2 in /databricks/python3/lib/python3.11/site-packages (from requests<3.0.0,>=2.13.0->spacy<3.8.0,>=3.7.2->en-core-web-sm==3.7.1) (2.0.4)\r\nRequirement already satisfied: idna<4,>=2.5 in /databricks/python3/lib/python3.11/site-packages (from requests<3.0.0,>=2.13.0->spacy<3.8.0,>=3.7.2->en-core-web-sm==3.7.1) (3.4)\r\nRequirement already satisfied: urllib3<3,>=1.21.1 in /databricks/python3/lib/python3.11/site-packages (from requests<3.0.0,>=2.13.0->spacy<3.8.0,>=3.7.2->en-core-web-sm==3.7.1) (1.26.16)\r\nRequirement already satisfied: certifi>=2017.4.17 in /databricks/python3/lib/python3.11/site-packages (from requests<3.0.0,>=2.13.0->spacy<3.8.0,>=3.7.2->en-core-web-sm==3.7.1) (2023.7.22)\r\nRequirement already satisfied: blis<0.8.0,>=0.7.8 in /databricks/python3/lib/python3.11/site-packages (from thinc<8.3.0,>=8.2.2->spacy<3.8.0,>=3.7.2->en-core-web-sm==3.7.1) (0.7.11)\r\nRequirement already satisfied: confection<1.0.0,>=0.0.1 in /databricks/python3/lib/python3.11/site-packages (from thinc<8.3.0,>=8.2.2->spacy<3.8.0,>=3.7.2->en-core-web-sm==3.7.1) (0.1.4)\r\nRequirement already satisfied: click<9.0.0,>=7.1.1 in /databricks/python3/lib/python3.11/site-packages (from typer<1.0.0,>=0.3.0->spacy<3.8.0,>=3.7.2->en-core-web-sm==3.7.1) (8.0.4)\r\nRequirement already satisfied: cloudpathlib<0.17.0,>=0.7.0 in /databricks/python3/lib/python3.11/site-packages (from weasel<0.5.0,>=0.1.0->spacy<3.8.0,>=3.7.2->en-core-web-sm==3.7.1) (0.16.0)\r\nRequirement already satisfied: smart-open<7.0.0,>=5.2.1 in /databricks/python3/lib/python3.11/site-packages (from weasel<0.5.0,>=0.1.0->spacy<3.8.0,>=3.7.2->en-core-web-sm==3.7.1) (5.2.1)\r\nRequirement already satisfied: MarkupSafe>=2.0 in /databricks/python3/lib/python3.11/site-packages (from jinja2->spacy<3.8.0,>=3.7.2->en-core-web-sm==3.7.1) (2.1.1)\r\nRequirement already satisfied: marisa-trie>=0.7.7 in /databricks/python3/lib/python3.11/site-packages (from language-data>=1.2->langcodes<4.0.0,>=3.2.0->spacy<3.8.0,>=3.7.2->en-core-web-sm==3.7.1) (1.1.1)\r\nInstalling collected packages: en-core-web-sm\r\nSuccessfully installed en-core-web-sm-3.7.1\r\n\r\n\u001B[1m[\u001B[0m\u001B[34;49mnotice\u001B[0m\u001B[1;39;49m]\u001B[0m\u001B[39;49m A new release of pip is available: \u001B[0m\u001B[31;49m23.2.1\u001B[0m\u001B[39;49m -> \u001B[0m\u001B[32;49m24.3.1\u001B[0m\r\n\u001B[1m[\u001B[0m\u001B[34;49mnotice\u001B[0m\u001B[1;39;49m]\u001B[0m\u001B[39;49m To update, run: \u001B[0m\u001B[32;49mpip install --upgrade pip\u001B[0m\r\n\u001B[38;5;2m✔ Download and installation successful\u001B[0m\r\nYou can now load the package via spacy.load('en_core_web_sm')\r\n"
     ]
    }
   ],
   "source": [
    "!python -m spacy download en_core_web_sm"
   ]
  },
  {
   "cell_type": "code",
   "execution_count": 0,
   "metadata": {
    "application/vnd.databricks.v1+cell": {
     "cellMetadata": {
      "byteLimit": 2048000,
      "rowLimit": 10000
     },
     "inputWidgets": {},
     "nuid": "983e345b-9df5-4075-ad9e-e2d10a54f9a2",
     "showTitle": false,
     "tableResultSettingsMap": {},
     "title": ""
    }
   },
   "outputs": [],
   "source": [
    "dbutils.library.restartPython()"
   ]
  },
  {
   "cell_type": "code",
   "execution_count": 0,
   "metadata": {
    "application/vnd.databricks.v1+cell": {
     "cellMetadata": {
      "byteLimit": 2048000,
      "rowLimit": 10000
     },
     "inputWidgets": {},
     "nuid": "1d3b9a81-3b34-4697-b336-20f0c0d8db83",
     "showTitle": false,
     "tableResultSettingsMap": {},
     "title": ""
    }
   },
   "outputs": [
    {
     "output_type": "stream",
     "name": "stderr",
     "output_type": "stream",
     "text": [
      "2024-12-14 12:45:36.604932: I external/local_tsl/tsl/cuda/cudart_stub.cc:32] Could not find cuda drivers on your machine, GPU will not be used.\n2024-12-14 12:45:36.609845: I external/local_tsl/tsl/cuda/cudart_stub.cc:32] Could not find cuda drivers on your machine, GPU will not be used.\n2024-12-14 12:45:36.674087: I tensorflow/core/platform/cpu_feature_guard.cc:210] This TensorFlow binary is optimized to use available CPU instructions in performance-critical operations.\nTo enable the following instructions: AVX2 AVX512F FMA, in other operations, rebuild TensorFlow with the appropriate compiler flags.\n2024-12-14 12:45:38.102012: W tensorflow/compiler/tf2tensorrt/utils/py_utils.cc:38] TF-TRT Warning: Could not find TensorRT\n"
     ]
    }
   ],
   "source": [
    "import asyncio\n",
    "import spacy\n",
    "from getpass import getpass\n",
    "import os\n",
    "\n",
    "from langchain.tools import tool\n",
    "from langchain import hub\n",
    "from langchain.agents import AgentExecutor, create_react_agent, create_openai_tools_agent\n",
    "from langchain_huggingface import HuggingFacePipeline\n",
    "from langchain_openai import ChatOpenAI\n",
    "from langchain.prompts import (\n",
    "    ChatPromptTemplate,\n",
    "    HumanMessagePromptTemplate,\n",
    "    MessagesPlaceholder,\n",
    "    SystemMessagePromptTemplate,\n",
    ")\n",
    "from transformers import pipeline"
   ]
  },
  {
   "cell_type": "code",
   "execution_count": 0,
   "metadata": {
    "application/vnd.databricks.v1+cell": {
     "cellMetadata": {
      "byteLimit": 2048000,
      "rowLimit": 10000
     },
     "inputWidgets": {},
     "nuid": "224cc456-3881-41f8-b293-b7614581e5a1",
     "showTitle": false,
     "tableResultSettingsMap": {},
     "title": ""
    }
   },
   "outputs": [
    {
     "output_type": "display_data",
     "data": {
      "text/plain": [
       " [REDACTED]"
      ]
     },
     "metadata": {},
     "output_type": "display_data"
    }
   ],
   "source": [
    "# HUGGINGFACEHUB_API_TOKEN = getpass()\n",
    "# os.environ[\"HUGGINGFACEHUB_API_TOKEN\"] = HUGGINGFACEHUB_API_TOKEN"
   ]
  },
  {
   "cell_type": "code",
   "execution_count": 0,
   "metadata": {
    "application/vnd.databricks.v1+cell": {
     "cellMetadata": {
      "byteLimit": 2048000,
      "rowLimit": 10000
     },
     "inputWidgets": {},
     "nuid": "4e361661-4534-4ce9-80b6-fd7f65651bf9",
     "showTitle": false,
     "tableResultSettingsMap": {},
     "title": ""
    }
   },
   "outputs": [
    {
     "output_type": "display_data",
     "data": {
      "text/plain": [
       " [REDACTED]"
      ]
     },
     "metadata": {},
     "output_type": "display_data"
    }
   ],
   "source": [
    "OPENAI_API_KEY_TOKEN = getpass()\n",
    "os.environ[\"OPENAI_API_KEY\"] = OPENAI_API_KEY_TOKEN"
   ]
  },
  {
   "cell_type": "code",
   "execution_count": 0,
   "metadata": {
    "application/vnd.databricks.v1+cell": {
     "cellMetadata": {
      "byteLimit": 2048000,
      "rowLimit": 10000
     },
     "inputWidgets": {},
     "nuid": "fe9c30f7-3ec2-48af-afb4-f47e15fbbdfd",
     "showTitle": false,
     "tableResultSettingsMap": {},
     "title": ""
    }
   },
   "outputs": [
    {
     "output_type": "stream",
     "name": "stderr",
     "output_type": "stream",
     "text": [
      "Token is valid (permission: fineGrained).\nThe token `rag_chat_tredence` has been saved to /root/.cache/huggingface/stored_tokens\nYour token has been saved in your configured git credential helpers (cache).\nYour token has been saved to /root/.cache/huggingface/token\nLogin successful.\nThe current active token is: `rag_chat_tredence`\n"
     ]
    }
   ],
   "source": [
    "%sh\n",
    "huggingface-cli login --token $HUGGINGFACEHUB_API_TOKEN --add-to-git-credential"
   ]
  },
  {
   "cell_type": "code",
   "execution_count": 0,
   "metadata": {
    "application/vnd.databricks.v1+cell": {
     "cellMetadata": {
      "byteLimit": 2048000,
      "rowLimit": 10000
     },
     "inputWidgets": {},
     "nuid": "d2deb8a9-b170-4e94-93fa-fc8d39d603e0",
     "showTitle": false,
     "tableResultSettingsMap": {},
     "title": ""
    }
   },
   "outputs": [
    {
     "output_type": "stream",
     "name": "stderr",
     "output_type": "stream",
     "text": [
      "Device set to use cpu\n/local_disk0/.ephemeral_nfs/envs/pythonEnv-d0076b2f-2da4-44c0-aa59-713021a47f08/lib/python3.11/site-packages/transformers/models/marian/tokenization_marian.py:175: UserWarning: Recommended: pip install sacremoses.\n  warnings.warn(\"Recommended: pip install sacremoses.\")\nDevice set to use cpu\n"
     ]
    }
   ],
   "source": [
    "# Load Hugging Face models for tasks\n",
    "# ner_pipeline = pipeline(\"ner\", model=\"dbmdz/bert-large-cased-finetuned-conll03-english\")\n",
    "sentiment_pipeline = pipeline(\"sentiment-analysis\", model='distilbert-base-uncased-finetuned-sst-2-english')\n",
    "translation_pipeline = pipeline(\"translation_en_to_fr\", model=\"Helsinki-NLP/opus-mt-en-fr\")"
   ]
  },
  {
   "cell_type": "code",
   "execution_count": 0,
   "metadata": {
    "application/vnd.databricks.v1+cell": {
     "cellMetadata": {
      "byteLimit": 2048000,
      "rowLimit": 10000
     },
     "inputWidgets": {},
     "nuid": "0c35d844-785e-457b-aaaa-abb9b292336a",
     "showTitle": false,
     "tableResultSettingsMap": {},
     "title": ""
    }
   },
   "outputs": [
    {
     "output_type": "display_data",
     "data": {
      "application/vnd.jupyter.widget-view+json": {
       "model_id": "510caec4da9847d295818a7a2f1efad6",
       "version_major": 2,
       "version_minor": 0
      },
      "text/plain": [
       "Loading pipeline components...:   0%|          | 0/7 [00:00<?, ?it/s]"
      ]
     },
     "metadata": {},
     "output_type": "display_data"
    }
   ],
   "source": [
    "from diffusers import DiffusionPipeline\n",
    "from transformers import BlipProcessor, BlipForConditionalGeneration\n",
    "\n",
    "image_gen_pipe = DiffusionPipeline.from_pretrained(\"prompthero/openjourney-v4\")\n",
    "# Load the caption generation model\n",
    "processor = BlipProcessor.from_pretrained(\"Salesforce/blip-image-captioning-base\")\n",
    "caption_model = BlipForConditionalGeneration.from_pretrained(\"Salesforce/blip-image-captioning-base\")"
   ]
  },
  {
   "cell_type": "code",
   "execution_count": 0,
   "metadata": {
    "application/vnd.databricks.v1+cell": {
     "cellMetadata": {
      "byteLimit": 2048000,
      "rowLimit": 10000
     },
     "inputWidgets": {},
     "nuid": "5ad53554-5898-408a-b419-882079ee237d",
     "showTitle": false,
     "tableResultSettingsMap": {},
     "title": ""
    }
   },
   "outputs": [],
   "source": [
    "@tool\n",
    "def generate_image(prompt: str):\n",
    "    \"\"\"Generate an image with 3 captions from the given prompt.\"\"\"\n",
    "    image = image_gen_pipe(prompt).images[0]\n",
    "    # Generate captions\n",
    "    inputs = processor(image, return_tensors=\"pt\")\n",
    "    outputs = caption_model.generate(**inputs, num_return_sequences=3, num_beams=5)\n",
    "    captions = [processor.decode(output, skip_special_tokens=True) for output in outputs]\n",
    "    return image, captions"
   ]
  },
  {
   "cell_type": "code",
   "execution_count": 0,
   "metadata": {
    "application/vnd.databricks.v1+cell": {
     "cellMetadata": {
      "byteLimit": 2048000,
      "rowLimit": 10000
     },
     "inputWidgets": {},
     "nuid": "5a4eb879-e66a-4150-b386-67cd23a5f8a5",
     "showTitle": false,
     "tableResultSettingsMap": {},
     "title": ""
    }
   },
   "outputs": [],
   "source": [
    "@tool\n",
    "def analyze_sentiment(input_text):\n",
    "    \"\"\"Analyze the sentiment of the input text.\"\"\"\n",
    "    result = sentiment_pipeline(input_text)[0]\n",
    "\n",
    "    return result['label']"
   ]
  },
  {
   "cell_type": "code",
   "execution_count": 0,
   "metadata": {
    "application/vnd.databricks.v1+cell": {
     "cellMetadata": {
      "byteLimit": 2048000,
      "rowLimit": 10000
     },
     "inputWidgets": {},
     "nuid": "43bc630e-498f-48ad-8103-859f8bf200f2",
     "showTitle": false,
     "tableResultSettingsMap": {},
     "title": ""
    }
   },
   "outputs": [],
   "source": [
    "@tool\n",
    "def extract_named_entities(prompt):\n",
    "    \"\"\"Extract named entities from a prompt.\"\"\"\n",
    "    # Load the pre-trained spaCy model\n",
    "    nlp = spacy.load(\"en_core_web_sm\")\n",
    "    doc = nlp(prompt)\n",
    "    entities = [(ent.text, ent.label_) for ent in doc.ents]\n",
    "    return entities"
   ]
  },
  {
   "cell_type": "code",
   "execution_count": 0,
   "metadata": {
    "application/vnd.databricks.v1+cell": {
     "cellMetadata": {
      "byteLimit": 2048000,
      "rowLimit": 10000
     },
     "inputWidgets": {},
     "nuid": "e311759b-9096-49fa-8b16-060e47491a19",
     "showTitle": false,
     "tableResultSettingsMap": {},
     "title": ""
    }
   },
   "outputs": [],
   "source": [
    "@tool\n",
    "def translate_to_french(prompt: str) -> str:\n",
    "    \"\"\"Translate English text to French.\"\"\"\n",
    "    translation = translation_pipeline(prompt)\n",
    "    return translation[0][\"translation_text\"]"
   ]
  },
  {
   "cell_type": "code",
   "execution_count": 0,
   "metadata": {
    "application/vnd.databricks.v1+cell": {
     "cellMetadata": {
      "byteLimit": 2048000,
      "rowLimit": 10000
     },
     "inputWidgets": {},
     "nuid": "e78515d1-d3e9-4790-bb08-30a225d38cb8",
     "showTitle": false,
     "tableResultSettingsMap": {},
     "title": ""
    }
   },
   "outputs": [],
   "source": [
    "async def create_agent_executor(user_prompt):\n",
    "    try:\n",
    "\n",
    "        agent_tools = [analyze_sentiment, extract_named_entities, translate_to_french, generate_image]\n",
    "\n",
    "        # Use a Hugging Face LLM as the reasoning engine for the agent\n",
    "        # llm = HuggingFacePipeline(pipeline=pipeline(\"text-generation\", model=\"Qwen/Qwen2-0.5B\", return_full_text=False,))\n",
    "\n",
    "        llm = ChatOpenAI(temperature=0, model_name=\"gpt-3.5-turbo\")\n",
    "\n",
    "        # Get the prompt to use - you can modify this!\n",
    "        openai_tool_prompt = hub.pull(\"hwchase17/openai-tools-agent\")\n",
    "\n",
    "        # Construct the ReAct agent\n",
    "        openai_agent = create_openai_tools_agent(llm, agent_tools, openai_tool_prompt)\n",
    "\n",
    "        agent_executor = AgentExecutor(\n",
    "            agent=openai_agent, tools=agent_tools, verbose=True, return_intermediate_steps=False, handle_parsing_errors=True\n",
    "        )\n",
    "\n",
    "        response = agent_executor.invoke({\"input\": user_prompt})\n",
    "\n",
    "        return response\n",
    "    except Exception as e:\n",
    "        print(e)"
   ]
  },
  {
   "cell_type": "code",
   "execution_count": 0,
   "metadata": {
    "application/vnd.databricks.v1+cell": {
     "cellMetadata": {
      "byteLimit": 2048000,
      "rowLimit": 10000
     },
     "inputWidgets": {},
     "nuid": "ec091b6e-a475-4039-b5ff-8c711682ae15",
     "showTitle": false,
     "tableResultSettingsMap": {},
     "title": ""
    }
   },
   "outputs": [],
   "source": [
    "async def main():\n",
    "  try:\n",
    "    while True:\n",
    "        user_input = input('Message Group 1 AI Service or Type \"quit\" to exit: ')\n",
    "        if user_input.lower() == 'quit':\n",
    "            break\n",
    "\n",
    "        prompt = user_input\n",
    "        response = await create_agent_executor(prompt)\n",
    "\n",
    "        print(response)\n",
    "\n",
    "    return response\n",
    "\n",
    "  except Exception as ex:\n",
    "        print(ex)"
   ]
  },
  {
   "cell_type": "code",
   "execution_count": 0,
   "metadata": {
    "application/vnd.databricks.v1+cell": {
     "cellMetadata": {
      "byteLimit": 2048000,
      "rowLimit": 10000
     },
     "inputWidgets": {},
     "nuid": "f13c0512-9109-46d3-b26d-2d6c19fc0cbf",
     "showTitle": false,
     "tableResultSettingsMap": {},
     "title": ""
    }
   },
   "outputs": [
    {
     "output_type": "display_data",
     "data": {
      "text/plain": [
       "Message Group 1 AI Service or Type \"quit\" to exit:  What is the sentiment of \"I love this product, it's amazing!\""
      ]
     },
     "metadata": {},
     "output_type": "display_data"
    },
    {
     "output_type": "stream",
     "name": "stderr",
     "output_type": "stream",
     "text": [
      "/local_disk0/.ephemeral_nfs/envs/pythonEnv-d0076b2f-2da4-44c0-aa59-713021a47f08/lib/python3.11/site-packages/langsmith/client.py:261: LangSmithMissingAPIKeyWarning: API key must be provided when using hosted LangSmith API\n  warnings.warn(\n"
     ]
    },
    {
     "output_type": "stream",
     "name": "stdout",
     "output_type": "stream",
     "text": [
      "\n\n\u001B[1m> Entering new AgentExecutor chain...\u001B[0m\n\u001B[32;1m\u001B[1;3m\nInvoking: `analyze_sentiment` with `{'input_text': \"I love this product, it's amazing!\"}`\n\n\n\u001B[0m\u001B[36;1m\u001B[1;3mPOSITIVE\u001B[0m\u001B[32;1m\u001B[1;3mThe sentiment of the text \"I love this product, it's amazing!\" is positive.\u001B[0m\n\n\u001B[1m> Finished chain.\u001B[0m\n{'input': 'What is the sentiment of \"I love this product, it\\'s amazing!\"', 'output': 'The sentiment of the text \"I love this product, it\\'s amazing!\" is positive.'}\n"
     ]
    },
    {
     "output_type": "display_data",
     "data": {
      "text/plain": [
       "Message Group 1 AI Service or Type \"quit\" to exit:  Translate \"How are you?\" to French."
      ]
     },
     "metadata": {},
     "output_type": "display_data"
    },
    {
     "output_type": "stream",
     "name": "stderr",
     "output_type": "stream",
     "text": [
      "/local_disk0/.ephemeral_nfs/envs/pythonEnv-d0076b2f-2da4-44c0-aa59-713021a47f08/lib/python3.11/site-packages/langsmith/client.py:261: LangSmithMissingAPIKeyWarning: API key must be provided when using hosted LangSmith API\n  warnings.warn(\n"
     ]
    },
    {
     "output_type": "stream",
     "name": "stdout",
     "output_type": "stream",
     "text": [
      "\n\n\u001B[1m> Entering new AgentExecutor chain...\u001B[0m\n\u001B[32;1m\u001B[1;3m\nInvoking: `translate_to_french` with `{'prompt': 'How are you?'}`\n\n\n\u001B[0m\u001B[38;5;200m\u001B[1;3mComment allez-vous ?\u001B[0m\u001B[32;1m\u001B[1;3mThe translation of \"How are you?\" to French is \"Comment allez-vous?\".\u001B[0m\n\n\u001B[1m> Finished chain.\u001B[0m\n{'input': 'Translate \"How are you?\" to French.', 'output': 'The translation of \"How are you?\" to French is \"Comment allez-vous?\".'}\n"
     ]
    },
    {
     "output_type": "display_data",
     "data": {
      "text/plain": [
       "Message Group 1 AI Service or Type \"quit\" to exit:  Extract the entities from the \"The quick brown fox jumps over the lazy dog and happily chases a squirrel\""
      ]
     },
     "metadata": {},
     "output_type": "display_data"
    },
    {
     "output_type": "stream",
     "name": "stderr",
     "output_type": "stream",
     "text": [
      "/local_disk0/.ephemeral_nfs/envs/pythonEnv-d0076b2f-2da4-44c0-aa59-713021a47f08/lib/python3.11/site-packages/langsmith/client.py:261: LangSmithMissingAPIKeyWarning: API key must be provided when using hosted LangSmith API\n  warnings.warn(\n"
     ]
    },
    {
     "output_type": "stream",
     "name": "stdout",
     "output_type": "stream",
     "text": [
      "\n\n\u001B[1m> Entering new AgentExecutor chain...\u001B[0m\n\u001B[32;1m\u001B[1;3m\nInvoking: `extract_named_entities` with `{'prompt': 'The quick brown fox jumps over the lazy dog and happily chases a squirrel'}`\n\n\n\u001B[0m\u001B[33;1m\u001B[1;3m[]\u001B[0m\u001B[32;1m\u001B[1;3mI couldn't find any named entities in the provided text. If you have another text or need assistance with something else, feel free to let me know!\u001B[0m\n\n\u001B[1m> Finished chain.\u001B[0m\n{'input': 'Extract the entities from the \"The quick brown fox jumps over the lazy dog and happily chases a squirrel\"', 'output': \"I couldn't find any named entities in the provided text. If you have another text or need assistance with something else, feel free to let me know!\"}\n"
     ]
    },
    {
     "output_type": "display_data",
     "data": {
      "text/plain": [
       "Message Group 1 AI Service or Type \"quit\" to exit:  Extract the named entities from the \"The quick brown fox jumps over the lazy dog and happily chases a squirrel\""
      ]
     },
     "metadata": {},
     "output_type": "display_data"
    },
    {
     "output_type": "stream",
     "name": "stderr",
     "output_type": "stream",
     "text": [
      "/local_disk0/.ephemeral_nfs/envs/pythonEnv-d0076b2f-2da4-44c0-aa59-713021a47f08/lib/python3.11/site-packages/langsmith/client.py:261: LangSmithMissingAPIKeyWarning: API key must be provided when using hosted LangSmith API\n  warnings.warn(\n"
     ]
    },
    {
     "output_type": "stream",
     "name": "stdout",
     "output_type": "stream",
     "text": [
      "\n\n\u001B[1m> Entering new AgentExecutor chain...\u001B[0m\n\u001B[32;1m\u001B[1;3m\nInvoking: `extract_named_entities` with `{'prompt': 'The quick brown fox jumps over the lazy dog and happily chases a squirrel'}`\n\n\n\u001B[0m\u001B[33;1m\u001B[1;3m[]\u001B[0m\u001B[32;1m\u001B[1;3mThere are no named entities extracted from the text \"The quick brown fox jumps over the lazy dog and happily chases a squirrel\".\u001B[0m\n\n\u001B[1m> Finished chain.\u001B[0m\n{'input': 'Extract the named entities from the \"The quick brown fox jumps over the lazy dog and happily chases a squirrel\"', 'output': 'There are no named entities extracted from the text \"The quick brown fox jumps over the lazy dog and happily chases a squirrel\".'}\n"
     ]
    },
    {
     "output_type": "display_data",
     "data": {
      "text/plain": [
       "Message Group 1 AI Service or Type \"quit\" to exit:  Extract the entities from the \"Andrew is good person to talk\""
      ]
     },
     "metadata": {},
     "output_type": "display_data"
    },
    {
     "output_type": "stream",
     "name": "stderr",
     "output_type": "stream",
     "text": [
      "/local_disk0/.ephemeral_nfs/envs/pythonEnv-d0076b2f-2da4-44c0-aa59-713021a47f08/lib/python3.11/site-packages/langsmith/client.py:261: LangSmithMissingAPIKeyWarning: API key must be provided when using hosted LangSmith API\n  warnings.warn(\n"
     ]
    },
    {
     "output_type": "stream",
     "name": "stdout",
     "output_type": "stream",
     "text": [
      "\n\n\u001B[1m> Entering new AgentExecutor chain...\u001B[0m\n\u001B[32;1m\u001B[1;3m\nInvoking: `extract_named_entities` with `{'prompt': 'Andrew is good person to talk'}`\n\n\n\u001B[0m\u001B[33;1m\u001B[1;3m[('Andrew', 'PERSON')]\u001B[0m\u001B[32;1m\u001B[1;3mThe entity \"Andrew\" has been extracted as a PERSON from the text \"Andrew is good person to talk\".\u001B[0m\n\n\u001B[1m> Finished chain.\u001B[0m\n{'input': 'Extract the entities from the \"Andrew is good person to talk\"', 'output': 'The entity \"Andrew\" has been extracted as a PERSON from the text \"Andrew is good person to talk\".'}\n"
     ]
    },
    {
     "output_type": "display_data",
     "data": {
      "text/plain": [
       "Message Group 1 AI Service or Type \"quit\" to exit:  Generate an image and 3 captions for \"A cat playing with Yarn\""
      ]
     },
     "metadata": {},
     "output_type": "display_data"
    },
    {
     "output_type": "stream",
     "name": "stderr",
     "output_type": "stream",
     "text": [
      "/local_disk0/.ephemeral_nfs/envs/pythonEnv-d0076b2f-2da4-44c0-aa59-713021a47f08/lib/python3.11/site-packages/langsmith/client.py:261: LangSmithMissingAPIKeyWarning: API key must be provided when using hosted LangSmith API\n  warnings.warn(\n"
     ]
    },
    {
     "output_type": "stream",
     "name": "stdout",
     "output_type": "stream",
     "text": [
      "\n\n\u001B[1m> Entering new AgentExecutor chain...\u001B[0m\n\u001B[32;1m\u001B[1;3m\nInvoking: `generate_image` with `{'prompt': 'A cat playing with Yarn'}`\n\n\n\u001B[0m"
     ]
    },
    {
     "output_type": "display_data",
     "data": {
      "application/vnd.jupyter.widget-view+json": {
       "model_id": "43d7acdbae3f4c7fb82c2c07c935c31d",
       "version_major": 2,
       "version_minor": 0
      },
      "text/plain": [
       "  0%|          | 0/50 [00:00<?, ?it/s]"
      ]
     },
     "metadata": {},
     "output_type": "display_data"
    },
    {
     "output_type": "stream",
     "name": "stdout",
     "output_type": "stream",
     "text": [
      "\u001B[36;1m\u001B[1;3m(<PIL.Image.Image image mode=RGB size=512x512 at 0x7FD46A215250>, ['a cat sitting next to a ball of yarn', 'a cat is sitting next to a ball of yarn', 'a painting of a cat with a ball of yarn'])\u001B[0m\u001B[32;1m\u001B[1;3mI have generated an image of a cat playing with yarn. Here are three captions for the image:\n1. A cat sitting next to a ball of yarn\n2. A cat is sitting next to a ball of yarn\n3. A painting of a cat with a ball of yarn\u001B[0m\n\n\u001B[1m> Finished chain.\u001B[0m\n{'input': 'Generate an image and 3 captions for \"A cat playing with Yarn\"', 'output': 'I have generated an image of a cat playing with yarn. Here are three captions for the image:\\n1. A cat sitting next to a ball of yarn\\n2. A cat is sitting next to a ball of yarn\\n3. A painting of a cat with a ball of yarn'}\n"
     ]
    },
    {
     "output_type": "display_data",
     "data": {
      "text/plain": [
       "Message Group 1 AI Service or Type \"quit\" to exit:  quit"
      ]
     },
     "metadata": {},
     "output_type": "display_data"
    },
    {
     "output_type": "display_data",
     "data": {
      "application/databricks.mlflow.trace": "[\"tr-4629c74e3a1848dcaf1e3749f5fd095a\", \"tr-912241b60064497f84bcb0731755860e\", \"tr-19745bcc868949ef82f0eaa460c79cf3\", \"tr-ea927f8063824dcca3b1fd34295d4438\", \"tr-039e73175bf54acf8dc6ed88a28346df\", \"tr-ea0e536ea72148f2952a03ac583d7e16\"]",
      "text/plain": [
       "[Trace(request_id=tr-4629c74e3a1848dcaf1e3749f5fd095a), Trace(request_id=tr-912241b60064497f84bcb0731755860e), Trace(request_id=tr-19745bcc868949ef82f0eaa460c79cf3), Trace(request_id=tr-ea927f8063824dcca3b1fd34295d4438), Trace(request_id=tr-039e73175bf54acf8dc6ed88a28346df), Trace(request_id=tr-ea0e536ea72148f2952a03ac583d7e16)]"
      ]
     },
     "metadata": {},
     "output_type": "display_data"
    }
   ],
   "source": [
    "s = await main()"
   ]
  },
  {
   "cell_type": "code",
   "execution_count": 0,
   "metadata": {
    "application/vnd.databricks.v1+cell": {
     "cellMetadata": {
      "byteLimit": 2048000,
      "rowLimit": 10000
     },
     "inputWidgets": {},
     "nuid": "9027537a-4920-4483-a95b-427dc7790986",
     "showTitle": false,
     "tableResultSettingsMap": {},
     "title": ""
    }
   },
   "outputs": [],
   "source": [
    "# What is the sentiment of \"I love this product, it's amazing!\"\n",
    "# Translate \"How are you?\" to French.\n",
    "# Extract the entities from the \"Andrew is good person to talk\"\n",
    "# Generate an image and 3 captions for \"A cat playing with Yarn\"\n"
   ]
  }
 ],
 "metadata": {
  "application/vnd.databricks.v1+notebook": {
   "computePreferences": null,
   "dashboards": [],
   "environmentMetadata": {
    "base_environment": "",
    "client": "1"
   },
   "language": "python",
   "notebookMetadata": {
    "mostRecentlyExecutedCommandWithImplicitDF": {
     "commandId": 3699405885840405,
     "dataframes": [
      "_sqldf"
     ]
    },
    "pythonIndentUnit": 4
   },
   "notebookName": "Hackathon-Group1_Hemachandran_BhanuPrakash",
   "widgets": {}
  },
  "language_info": {
   "name": "python"
  }
 },
 "nbformat": 4,
 "nbformat_minor": 0
}
