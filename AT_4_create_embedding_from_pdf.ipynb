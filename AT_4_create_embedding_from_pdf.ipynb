{
 "cells": [
  {
   "cell_type": "code",
   "execution_count": 0,
   "metadata": {
    "application/vnd.databricks.v1+cell": {
     "cellMetadata": {
      "byteLimit": 2048000,
      "rowLimit": 10000
     },
     "inputWidgets": {},
     "nuid": "ba408ebc-2359-4eea-934c-548b9bb9b6fe",
     "showTitle": false,
     "tableResultSettingsMap": {},
     "title": ""
    }
   },
   "outputs": [],
   "source": [
    "storageAccountName = \"hemzstorage\"\n",
    "storageAccountAccessKey = \"<key>\"\n",
    "# sasToken = <sas-token>\n",
    "blobContainerName = \"solutions\"\n",
    "mountPoint = \"/mnt/data/\"\n",
    "if not any(mount.mountPoint == mountPoint for mount in dbutils.fs.mounts()):\n",
    "  try:\n",
    "    dbutils.fs.mount(\n",
    "      source = \"wasbs://{}@{}.blob.core.windows.net\".format(blobContainerName, storageAccountName),\n",
    "      mount_point = mountPoint,\n",
    "      extra_configs = {'fs.azure.account.key.' + storageAccountName + '.blob.core.windows.net': storageAccountAccessKey}\n",
    "      # extra_configs = {'fs.azure.sas.' + blobContainerName + '.' + storageAccountName + '.blob.core.windows.net': sasToken}\n",
    "    )\n",
    "    print(\"mount succeeded!\")\n",
    "  except Exception as e:\n",
    "    print(\"mount exception\", e)"
   ]
  },
  {
   "cell_type": "code",
   "execution_count": 0,
   "metadata": {
    "application/vnd.databricks.v1+cell": {
     "cellMetadata": {
      "byteLimit": 2048000,
      "rowLimit": 10000
     },
     "inputWidgets": {},
     "nuid": "3de12956-e7ec-48d1-9f8d-8a8e30905980",
     "showTitle": false,
     "tableResultSettingsMap": {},
     "title": ""
    }
   },
   "outputs": [],
   "source": [
    "dbutils.fs.ls(\"/mnt/data/input_data\")"
   ]
  },
  {
   "cell_type": "code",
   "execution_count": 0,
   "metadata": {
    "application/vnd.databricks.v1+cell": {
     "cellMetadata": {
      "byteLimit": 2048000,
      "rowLimit": 10000
     },
     "inputWidgets": {},
     "nuid": "a16744e4-6ebb-4aee-903d-8e00f76bd582",
     "showTitle": false,
     "tableResultSettingsMap": {},
     "title": ""
    }
   },
   "outputs": [
    {
     "output_type": "stream",
     "name": "stdout",
     "output_type": "stream",
     "text": [
      "\u001B[43mNote: you may need to restart the kernel using dbutils.library.restartPython() to use updated packages.\u001B[0m\nERROR: pip's dependency resolver does not currently take into account all the packages that are installed. This behaviour is the source of the following dependency conflicts.\nydata-profiling 4.2.0 requires pydantic<2,>=1.8.1, but you have pydantic 2.10.3 which is incompatible.\n\u001B[43mNote: you may need to restart the kernel using dbutils.library.restartPython() to use updated packages.\u001B[0m\n"
     ]
    }
   ],
   "source": [
    "!pip install -qU langchain langchain-community langchain-huggingface pypdf sentence-transformers"
   ]
  },
  {
   "cell_type": "code",
   "execution_count": 0,
   "metadata": {
    "application/vnd.databricks.v1+cell": {
     "cellMetadata": {
      "byteLimit": 2048000,
      "rowLimit": 10000
     },
     "inputWidgets": {},
     "nuid": "b42e2eee-f2e9-41c0-89cb-c4736d043708",
     "showTitle": false,
     "tableResultSettingsMap": {},
     "title": ""
    }
   },
   "outputs": [],
   "source": [
    "dbutils.library.restartPython()"
   ]
  },
  {
   "cell_type": "code",
   "execution_count": 0,
   "metadata": {
    "application/vnd.databricks.v1+cell": {
     "cellMetadata": {
      "byteLimit": 2048000,
      "rowLimit": 10000
     },
     "inputWidgets": {},
     "nuid": "f092a52e-aaef-46f5-a9b5-09b8eb2c92e3",
     "showTitle": false,
     "tableResultSettingsMap": {},
     "title": ""
    }
   },
   "outputs": [],
   "source": [
    "from langchain_community.document_loaders import (\n",
    "    PyPDFLoader,\n",
    ")\n",
    "from langchain_huggingface import HuggingFaceEmbeddings"
   ]
  },
  {
   "cell_type": "code",
   "execution_count": 0,
   "metadata": {
    "application/vnd.databricks.v1+cell": {
     "cellMetadata": {
      "byteLimit": 2048000,
      "rowLimit": 10000
     },
     "inputWidgets": {},
     "nuid": "5a5d345c-776c-4bec-9eee-7e1b47c241b1",
     "showTitle": false,
     "tableResultSettingsMap": {},
     "title": ""
    }
   },
   "outputs": [],
   "source": [
    "loader = PyPDFLoader(\"/dbfs/mnt/data/input_data/How_to_Buy_Products_Online_1.pdf\")\n",
    "documents = loader.load()\n",
    "\n",
    "# Extract text from the loaded documents\n",
    "texts = [doc.page_content for doc in documents]"
   ]
  },
  {
   "cell_type": "code",
   "execution_count": 0,
   "metadata": {
    "application/vnd.databricks.v1+cell": {
     "cellMetadata": {
      "byteLimit": 2048000,
      "rowLimit": 10000
     },
     "inputWidgets": {},
     "nuid": "0fd16472-f5ba-45d1-9105-790159bfecf9",
     "showTitle": false,
     "tableResultSettingsMap": {},
     "title": ""
    }
   },
   "outputs": [
    {
     "output_type": "stream",
     "name": "stdout",
     "output_type": "stream",
     "text": [
      "The data extracted from the pdf is:\nHow Can I Buy Products From an E-commerce Website?\nStep 1: Choose Your Platform\nIdentify the e-commerce website you want to shop from.\nExamples: Amazon, eBay, Walmart.\nStep 2: Create an Account\nSign up with your email address and create a password.\nProvide accurate details like your name and shipping address.\nStep 3: Browse Products\nUse the search bar or navigation categories to find items.\nRead product descriptions and reviews for informed decisions.\nStep 4: Add to Cart\nClick \"Add to Cart\" for items you wish to buy.\nReview your cart for accuracy before proceeding.\nStep 5: Proceed to Checkout\nClick \"Checkout\" and enter payment details.\nChoose payment methods like credit card, PayPal, or others.\nStep 6: Confirm Purchase\nReview order details and click \"Place Order.\"\nWait for the confirmation email and track your order.\n"
     ]
    }
   ],
   "source": [
    "print(f\"The data extracted from the pdf is:\\n{documents[0].page_content}\")"
   ]
  },
  {
   "cell_type": "code",
   "execution_count": 0,
   "metadata": {
    "application/vnd.databricks.v1+cell": {
     "cellMetadata": {
      "byteLimit": 2048000,
      "rowLimit": 10000
     },
     "inputWidgets": {},
     "nuid": "fdb83186-efa3-4961-ab43-d5126371c286",
     "showTitle": false,
     "tableResultSettingsMap": {},
     "title": ""
    }
   },
   "outputs": [
    {
     "output_type": "stream",
     "name": "stderr",
     "output_type": "stream",
     "text": [
      "2024-12-04 06:36:31.207981: I tensorflow/core/util/port.cc:111] oneDNN custom operations are on. You may see slightly different numerical results due to floating-point round-off errors from different computation orders. To turn them off, set the environment variable `TF_ENABLE_ONEDNN_OPTS=0`.\n2024-12-04 06:36:31.239328: I tensorflow/core/platform/cpu_feature_guard.cc:182] This TensorFlow binary is optimized to use available CPU instructions in performance-critical operations.\nTo enable the following instructions: AVX2 AVX512F AVX512_VNNI FMA, in other operations, rebuild TensorFlow with the appropriate compiler flags.\n/databricks/python/lib/python3.10/site-packages/torchvision/datapoints/__init__.py:12: UserWarning: The torchvision.datapoints and torchvision.transforms.v2 namespaces are still Beta. While we do not expect major breaking changes, some APIs may still change according to user feedback. Please submit any feedback you may have in this issue: https://github.com/pytorch/vision/issues/6753, and you can also check out https://github.com/pytorch/vision/issues/7319 to learn more about the APIs that we suspect might involve future changes. You can silence this warning by calling torchvision.disable_beta_transforms_warning().\n  warnings.warn(_BETA_TRANSFORMS_WARNING)\n/databricks/python/lib/python3.10/site-packages/torchvision/transforms/v2/__init__.py:54: UserWarning: The torchvision.datapoints and torchvision.transforms.v2 namespaces are still Beta. While we do not expect major breaking changes, some APIs may still change according to user feedback. Please submit any feedback you may have in this issue: https://github.com/pytorch/vision/issues/6753, and you can also check out https://github.com/pytorch/vision/issues/7319 to learn more about the APIs that we suspect might involve future changes. You can silence this warning by calling torchvision.disable_beta_transforms_warning().\n  warnings.warn(_BETA_TRANSFORMS_WARNING)\nhuggingface/tokenizers: The current process just got forked, after parallelism has already been used. Disabling parallelism to avoid deadlocks...\nTo disable this warning, you can either:\n\t- Avoid using `tokenizers` before the fork if possible\n\t- Explicitly set the environment variable TOKENIZERS_PARALLELISM=(true | false)\n"
     ]
    }
   ],
   "source": [
    "# # Initialize the HuggingFaceEmbeddings instance\n",
    "# embeddings = HuggingFaceEmbeddings()\n",
    "\n",
    "# # Generate embeddings for the extracted text\n",
    "# text_embeddings = [embeddings.embed_documents(text) for text in texts]"
   ]
  },
  {
   "cell_type": "code",
   "execution_count": 0,
   "metadata": {
    "application/vnd.databricks.v1+cell": {
     "cellMetadata": {
      "byteLimit": 2048000,
      "rowLimit": 10000
     },
     "inputWidgets": {},
     "nuid": "f7b860cc-7d21-44d0-910e-80c9b915b3c3",
     "showTitle": false,
     "tableResultSettingsMap": {},
     "title": ""
    }
   },
   "outputs": [],
   "source": [
    "from sentence_transformers import SentenceTransformer\n",
    "\n",
    "# Load embedding model\n",
    "model = SentenceTransformer('all-MiniLM-L6-v2')\n",
    "\n",
    "# Generate embeddings\n",
    "text_embeddings = [model.encode(text) for text in texts]"
   ]
  },
  {
   "cell_type": "code",
   "execution_count": 0,
   "metadata": {
    "application/vnd.databricks.v1+cell": {
     "cellMetadata": {
      "byteLimit": 2048000,
      "rowLimit": 10000
     },
     "inputWidgets": {},
     "nuid": "1f63b5a1-fa48-4100-ab08-56f433035d1d",
     "showTitle": false,
     "tableResultSettingsMap": {},
     "title": ""
    }
   },
   "outputs": [
    {
     "output_type": "execute_result",
     "data": {
      "text/plain": [
       "[array([ 3.79701108e-02, -1.92569457e-02, -8.37868545e-03, -8.89837183e-03,\n",
       "        -8.23286269e-03,  6.40797392e-02,  2.55484916e-02,  5.66396229e-02,\n",
       "        -4.16677706e-02, -3.86959948e-02,  3.53256576e-02, -1.38619747e-02,\n",
       "         7.66105205e-02, -5.97599521e-02,  6.05619922e-02, -3.59705910e-02,\n",
       "         1.22235194e-02, -1.61517933e-02,  6.13431388e-04, -2.16930639e-03,\n",
       "         3.47132236e-02,  3.89006129e-03,  2.81160288e-02,  1.07081216e-02,\n",
       "        -9.24451724e-02, -4.04665098e-02, -3.61034423e-02,  1.95950214e-02,\n",
       "        -1.40003012e-02, -3.69353853e-02,  4.59839664e-02, -5.20542189e-02,\n",
       "         7.58450851e-02,  2.88688950e-02, -5.23324087e-02, -7.66359493e-02,\n",
       "        -3.87336239e-02, -8.82205516e-02, -7.10645542e-02, -1.38113294e-02,\n",
       "        -5.71481325e-03, -4.50266227e-02, -1.06380425e-01,  7.49213099e-02,\n",
       "         7.41631165e-02,  2.90493090e-02,  1.31402677e-02,  8.25693011e-02,\n",
       "         6.31800815e-02,  4.48988974e-02, -7.29571329e-03,  2.45999601e-02,\n",
       "        -1.76804680e-02, -5.38979433e-02, -1.59303054e-01,  2.15965714e-02,\n",
       "         5.50601333e-02,  1.04749771e-02,  8.02472085e-02, -8.73149857e-02,\n",
       "         7.98200071e-02, -8.89543891e-02,  4.66484725e-02, -7.93282408e-03,\n",
       "        -6.62579462e-02, -1.40123107e-02, -1.76840629e-02, -4.58039176e-05,\n",
       "        -5.60834482e-02,  1.28507745e-02, -3.00856074e-03, -1.68425534e-02,\n",
       "         3.84285464e-03,  7.99549818e-02, -2.87646372e-02,  2.82527078e-02,\n",
       "         1.10534534e-01, -6.55228272e-02, -2.61030253e-02,  1.55963212e-01,\n",
       "        -1.09210014e-01,  8.92745107e-02, -3.40060405e-02, -1.99802518e-02,\n",
       "         8.83252639e-03,  5.80124222e-02,  8.90196562e-02,  6.38977364e-02,\n",
       "        -3.43335941e-02, -9.17311236e-02,  2.94255856e-02, -4.89255749e-02,\n",
       "        -9.11273435e-02, -3.00406348e-02,  6.82719201e-02,  8.06886994e-04,\n",
       "        -2.03156136e-02, -2.45462060e-02,  6.06766604e-02, -6.00962527e-02,\n",
       "         3.12308911e-02,  2.33461484e-02, -3.88547815e-02, -5.51478080e-02,\n",
       "        -3.67673486e-02,  3.42322774e-02, -5.62820919e-02,  6.76445141e-02,\n",
       "         9.57725272e-02, -1.42208477e-02, -1.32558405e-01, -6.70563057e-02,\n",
       "         1.37824956e-02,  1.25760688e-02,  2.46149451e-02,  5.05959019e-02,\n",
       "        -4.99775484e-02,  1.09804068e-02,  1.21428736e-01,  2.53042369e-03,\n",
       "         3.58826704e-02,  4.22753058e-02,  4.39928509e-02, -5.89174777e-02,\n",
       "         1.23742986e-02,  2.83004455e-02,  2.84199733e-02,  3.34072188e-33,\n",
       "        -4.22211066e-02, -2.29192264e-02, -1.08496165e-02, -1.26807280e-02,\n",
       "        -5.15455268e-02,  6.09026924e-02,  9.76579040e-02, -2.91187447e-02,\n",
       "        -4.92243357e-02,  7.56997094e-02, -2.47263797e-02, -3.66802961e-02,\n",
       "         4.25584838e-02,  9.40788165e-02, -6.39624521e-02,  3.63346823e-02,\n",
       "         1.55036980e-02, -3.18115354e-02,  1.20904118e-01, -1.03894603e-02,\n",
       "         6.32422278e-04, -4.00824510e-02,  4.61717397e-02, -3.41031118e-03,\n",
       "        -2.01847535e-02, -2.01509800e-02, -3.28847803e-02,  1.56004995e-01,\n",
       "         6.65023997e-02, -7.62458937e-03,  1.64753739e-02, -1.20511003e-01,\n",
       "        -2.30602603e-02,  5.42155802e-02, -5.41494712e-02, -2.57386211e-02,\n",
       "         8.42104200e-03,  2.64565833e-02,  5.09425737e-02, -1.10288374e-01,\n",
       "        -1.95013545e-02,  1.52597688e-02, -5.50501607e-02,  8.81337598e-02,\n",
       "         1.74524486e-02,  4.62379679e-02, -8.30133632e-02, -5.03293835e-02,\n",
       "         6.33424148e-02,  3.17303948e-02, -7.78248310e-02,  9.07885376e-03,\n",
       "         2.18537878e-02,  1.46499556e-02, -7.90753737e-02, -3.00772432e-02,\n",
       "         1.30863059e-02, -6.07792549e-02, -1.12882368e-02, -8.29933807e-02,\n",
       "        -1.30012371e-02, -2.79201418e-02, -1.02078469e-04, -6.74958974e-02,\n",
       "        -4.69486043e-02, -5.65394647e-02, -5.05146198e-02, -6.17125556e-02,\n",
       "        -2.67088059e-02,  2.42371690e-02, -4.06244770e-02,  5.91864698e-02,\n",
       "         7.38972500e-02, -6.53076172e-03,  9.48117953e-03,  2.11730544e-02,\n",
       "        -1.38913859e-02,  8.45816806e-02, -3.73762683e-03, -1.31166056e-02,\n",
       "         2.36696494e-03,  3.81147936e-02,  4.29569259e-02,  6.77734986e-02,\n",
       "        -3.33057269e-02, -6.00609835e-03, -8.20211694e-03, -3.07365227e-02,\n",
       "        -6.38139527e-03, -5.15606329e-02,  2.41927337e-02,  1.01855081e-02,\n",
       "        -2.10546050e-02,  6.00636064e-04,  9.63204578e-02, -4.79224288e-33,\n",
       "         2.53527928e-02, -9.50197317e-03,  3.34439613e-02,  5.51802330e-02,\n",
       "        -4.62253951e-02,  6.70932382e-02, -7.70130306e-02,  7.59936956e-05,\n",
       "         3.92502733e-02, -5.67496233e-02, -6.04920760e-02,  4.11127731e-02,\n",
       "        -8.76685837e-04, -5.59497550e-02,  5.02311178e-02, -1.24511439e-02,\n",
       "         2.45526023e-02,  8.55742395e-03,  4.15956676e-02, -2.29693539e-02,\n",
       "         4.43293899e-02, -5.09102494e-02, -6.71843961e-02, -8.35416317e-02,\n",
       "         3.33584063e-02, -4.07974161e-02,  6.04917519e-02, -5.59153035e-03,\n",
       "         1.56368257e-03, -1.12592587e-02,  5.37630394e-02, -3.08449883e-02,\n",
       "         3.47216837e-02,  4.26582955e-02, -4.92855301e-03, -7.49998819e-03,\n",
       "        -4.91367504e-02,  5.21961600e-02,  9.20192674e-02, -1.34436460e-02,\n",
       "         5.74802160e-02,  5.38922213e-02,  4.42209803e-02, -1.04014210e-01,\n",
       "        -6.12367615e-02, -1.40650244e-02,  1.97615903e-02,  4.58792262e-02,\n",
       "         9.13172681e-03, -2.13936232e-02, -5.18371053e-02,  1.05415553e-01,\n",
       "        -4.55622561e-02, -4.70596887e-02, -4.34604771e-02,  1.09242246e-01,\n",
       "         3.59868258e-02,  1.53000122e-02,  3.50851342e-02, -1.64352991e-02,\n",
       "        -8.04143995e-02, -2.27255025e-03,  3.88068520e-02, -2.67624073e-02,\n",
       "         2.01360397e-02, -1.82365123e-02,  5.65187484e-02,  1.15857804e-02,\n",
       "         4.32248116e-02,  1.62791107e-02, -8.70987251e-02,  5.54531217e-02,\n",
       "         1.31028378e-02,  1.20090861e-02, -1.62199475e-02, -3.70563604e-02,\n",
       "        -3.45816114e-03,  2.57458817e-02, -8.84894747e-03, -3.08762416e-02,\n",
       "         7.51173645e-02,  3.62493061e-02,  9.02836099e-02,  2.19506063e-02,\n",
       "        -5.57755865e-03, -1.85818020e-02, -6.72005489e-02, -6.75465316e-02,\n",
       "         4.68291566e-02, -8.86035189e-02, -6.04289286e-02, -2.26053633e-02,\n",
       "        -9.11092665e-03, -3.20669753e-03,  6.92205355e-02, -4.24711111e-08,\n",
       "         4.16316502e-02, -5.87204024e-02,  7.29954243e-02,  1.48489222e-01,\n",
       "        -2.26623137e-02,  2.44382638e-02,  2.76995189e-02,  8.22914913e-02,\n",
       "        -6.06098324e-02, -1.49285048e-02, -2.72013266e-02,  8.02088249e-03,\n",
       "        -1.61420945e-02,  1.67301937e-03,  7.04134814e-03, -3.19952555e-02,\n",
       "         7.10715801e-02, -1.01331039e-03,  4.12678681e-02,  1.41986236e-02,\n",
       "        -4.74830754e-02, -1.13764472e-01,  8.92287716e-02,  1.63085554e-02,\n",
       "         1.78636052e-03,  6.14820905e-02,  5.16768172e-02,  4.66748476e-02,\n",
       "        -2.85039786e-02, -6.46646181e-03, -3.37739591e-03, -1.54250273e-02,\n",
       "        -2.26302128e-02,  1.34699701e-04,  8.34309775e-03, -4.94706929e-02,\n",
       "        -2.90321391e-02, -7.36825494e-03, -6.09093159e-02, -3.29828560e-02,\n",
       "        -2.42150910e-02, -1.01462202e-02,  9.54590924e-03, -5.97114824e-02,\n",
       "        -1.02186063e-02,  6.08200468e-02, -4.06975076e-02, -9.25158188e-02,\n",
       "        -7.62688043e-03,  7.05937520e-02,  1.48271751e-02,  3.62539408e-03,\n",
       "         3.92221510e-02, -2.30938308e-02, -9.45849195e-02, -1.78502295e-02,\n",
       "        -2.99553238e-02, -6.04372062e-02,  8.02999809e-02,  4.23181914e-02,\n",
       "        -1.10603841e-02, -7.46378629e-03,  5.14205135e-02, -4.60835062e-02],\n",
       "       dtype=float32)]"
      ]
     },
     "execution_count": 14,
     "metadata": {},
     "output_type": "execute_result"
    }
   ],
   "source": [
    "text_embeddings"
   ]
  },
  {
   "cell_type": "code",
   "execution_count": 0,
   "metadata": {
    "application/vnd.databricks.v1+cell": {
     "cellMetadata": {},
     "inputWidgets": {},
     "nuid": "7e0501a5-ec4e-41fd-bd10-a950324b8865",
     "showTitle": false,
     "tableResultSettingsMap": {},
     "title": ""
    }
   },
   "outputs": [],
   "source": []
  }
 ],
 "metadata": {
  "application/vnd.databricks.v1+notebook": {
   "dashboards": [],
   "environmentMetadata": {
    "base_environment": "",
    "client": "1"
   },
   "language": "python",
   "notebookMetadata": {
    "pythonIndentUnit": 4
   },
   "notebookName": "AT_4_create_embedding_from_pdf",
   "widgets": {}
  },
  "language_info": {
   "name": "python"
  }
 },
 "nbformat": 4,
 "nbformat_minor": 0
}
